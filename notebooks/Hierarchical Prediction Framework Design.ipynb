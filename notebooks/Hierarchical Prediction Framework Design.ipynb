{
 "metadata": {
  "name": ""
 },
 "nbformat": 3,
 "nbformat_minor": 0,
 "worksheets": [
  {
   "cells": [
    {
     "cell_type": "heading",
     "level": 1,
     "metadata": {},
     "source": [
      "Overview"
     ]
    },
    {
     "cell_type": "markdown",
     "metadata": {},
     "source": [
      "This document outlines the design for a hierarchical prediction framework modelled after the human brain, specifically in how it learns, recognizes, and makes predictions to model complex systems and environments."
     ]
    },
    {
     "cell_type": "heading",
     "level": 1,
     "metadata": {},
     "source": [
      "Goals"
     ]
    },
    {
     "cell_type": "markdown",
     "metadata": {},
     "source": [
      "The goals of the learning system is to be able to:\n",
      "\n",
      "1. Process arbitrary sets of inputs and outputs, varying in levels, noise, and pysical representation. \n",
      "1. Automatically find temporal patterns in the data.\n",
      "1. Hierachical pattern recognition.\n",
      "1. Over-arching goal to acheive predictability of system as a whole.\n",
      "1. Control interface."
     ]
    },
    {
     "cell_type": "heading",
     "level": 2,
     "metadata": {},
     "source": [
      "Process Arbitrary Sets of Input and Output"
     ]
    },
    {
     "cell_type": "markdown",
     "metadata": {},
     "source": [
      "Input and output of the system goes through normalization to acheive zero-sum, zero-mean signals. This can be acheived with the formula:\n",
      "\n",
      "\\begin{equation} \n",
      "    \\frac{ x - \\mu }{ (max - min) } \n",
      "\\end{equation}\n",
      "\n",
      "I/O interfaces will continually monitor and control this mapping."
     ]
    },
    {
     "cell_type": "heading",
     "level": 2,
     "metadata": {},
     "source": [
      "Automatically Find Temporal Patterns in the Data"
     ]
    },
    {
     "cell_type": "markdown",
     "metadata": {},
     "source": [
      "This allows the system to identify and isolate repeated time-based patterns. New pattern detection is triggered by unmatched pattern in a region."
     ]
    },
    {
     "cell_type": "heading",
     "level": 2,
     "metadata": {},
     "source": [
      "Hierarchical Pattern Recognition"
     ]
    },
    {
     "cell_type": "markdown",
     "metadata": {},
     "source": [
      "Units of trained pattern recognizers are formed into a heirarchy where identified patterns pass up the name of the pattern and predictions are passed down the hierarchey. This forms a deep model representing the world-view of the system. "
     ]
    },
    {
     "cell_type": "heading",
     "level": 2,
     "metadata": {},
     "source": [
      "Over-arching Goal to Achieve Predictability"
     ]
    },
    {
     "cell_type": "markdown",
     "metadata": {},
     "source": [
      "The goal of the system is to be correct in its preditions. Correct predictions reinforce the patterns and incorrect predictions diminishes its influence, eventually removing or replacing its use."
     ]
    },
    {
     "cell_type": "heading",
     "level": 2,
     "metadata": {},
     "source": [
      "Control Interface"
     ]
    },
    {
     "cell_type": "markdown",
     "metadata": {},
     "source": [
      "A control interface will provide user input to the system to cause it to map its model to different states to provide desired output signals. This may be communication output or actuator output. This may be possible through special I/O interfaces. If we are able to map the model to locate where and how certain representations of the system are made, they may be able to be influenced at that point to case the whole system to map a change at that point to the rest of the system (changing necessary outputs to affect neccessary inputs). Another option is dedicate input channels which through learning the system can automate the process of mapping the control input channels "
     ]
    },
    {
     "cell_type": "heading",
     "level": 1,
     "metadata": {},
     "source": [
      "Components"
     ]
    },
    {
     "cell_type": "markdown",
     "metadata": {},
     "source": [
      "The main components are:\n",
      "\n",
      "1. __Temporal Pattern Selector__ -- Finds, selects, and models repeated patterns.\n",
      "1. __Temporal Pattern Matcher__ -- Matches selected patterns.\n",
      "1. __Node__ -- A node packages a __Temporal Pattern Matcher__, providing it input and producing output based on the matched pattern. Unmatched patterns are passed to __Temporal Pattern Selector__.\n",
      "1. __Hierarchey__ -- The hierarchy represents the total of connected __Node__s. \n",
      "1. __I/O Socket__ -- This interfaces a node to a raw input or output signal. "
     ]
    },
    {
     "cell_type": "markdown",
     "metadata": {},
     "source": [
      "___\n",
      "\n",
      "<div style=\"text-align:center;\">\n",
      "<a rel=\"license\" href=\"http://creativecommons.org/licenses/by-sa/4.0/\"><img alt=\"Creative Commons License\" style=\"border-width:0\" src=\"http://i.creativecommons.org/l/by-sa/4.0/88x31.png\" /></a><br />This work is licensed under a <a rel=\"license\" href=\"http://creativecommons.org/licenses/by-sa/4.0/\">Creative Commons Attribution-ShareAlike 4.0 International License</a>.\n",
      "<br/>\n",
      "Copyright &copy; 2014 Joseph Monti\n",
      "</div>"
     ]
    }
   ],
   "metadata": {}
  }
 ]
}